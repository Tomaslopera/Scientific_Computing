{
 "cells": [
  {
   "cell_type": "code",
   "execution_count": 6,
   "id": "65c2a701",
   "metadata": {},
   "outputs": [],
   "source": [
    "import pandas as pd\n",
    "import matplotlib.pyplot as plt\n",
    "import seaborn as sns"
   ]
  },
  {
   "cell_type": "code",
   "execution_count": 3,
   "id": "1989e22c",
   "metadata": {},
   "outputs": [],
   "source": [
    "data = pd.read_csv('../Datasets/datos_caso_8.csv')"
   ]
  },
  {
   "cell_type": "code",
   "execution_count": 4,
   "id": "ad937496",
   "metadata": {},
   "outputs": [
    {
     "name": "stdout",
     "output_type": "stream",
     "text": [
      "<class 'pandas.core.frame.DataFrame'>\n",
      "RangeIndex: 8866 entries, 0 to 8865\n",
      "Data columns (total 11 columns):\n",
      " #   Column          Non-Null Count  Dtype \n",
      "---  ------          --------------  ----- \n",
      " 0   Timestamp       8866 non-null   object\n",
      " 1   Source_IP       8866 non-null   object\n",
      " 2   Destination_IP  8866 non-null   object\n",
      " 3   Port            8866 non-null   int64 \n",
      " 4   Request_Type    8866 non-null   object\n",
      " 5   Protocol        8866 non-null   object\n",
      " 6   Payload_Size    8866 non-null   int64 \n",
      " 7   User_Agent      8866 non-null   object\n",
      " 8   Status          8866 non-null   object\n",
      " 9   Intrusion       8866 non-null   int64 \n",
      " 10  Scan_Type       8866 non-null   object\n",
      "dtypes: int64(3), object(8)\n",
      "memory usage: 762.1+ KB\n"
     ]
    }
   ],
   "source": [
    "data.info()"
   ]
  },
  {
   "cell_type": "code",
   "execution_count": 12,
   "id": "f29e8cec",
   "metadata": {},
   "outputs": [
    {
     "data": {
      "text/html": [
       "<div>\n",
       "<style scoped>\n",
       "    .dataframe tbody tr th:only-of-type {\n",
       "        vertical-align: middle;\n",
       "    }\n",
       "\n",
       "    .dataframe tbody tr th {\n",
       "        vertical-align: top;\n",
       "    }\n",
       "\n",
       "    .dataframe thead th {\n",
       "        text-align: right;\n",
       "    }\n",
       "</style>\n",
       "<table border=\"1\" class=\"dataframe\">\n",
       "  <thead>\n",
       "    <tr style=\"text-align: right;\">\n",
       "      <th></th>\n",
       "      <th>Timestamp</th>\n",
       "      <th>Source_IP</th>\n",
       "      <th>Destination_IP</th>\n",
       "      <th>Port</th>\n",
       "      <th>Request_Type</th>\n",
       "      <th>Protocol</th>\n",
       "      <th>Payload_Size</th>\n",
       "      <th>User_Agent</th>\n",
       "      <th>Status</th>\n",
       "      <th>Intrusion</th>\n",
       "      <th>Scan_Type</th>\n",
       "    </tr>\n",
       "  </thead>\n",
       "  <tbody>\n",
       "    <tr>\n",
       "      <th>0</th>\n",
       "      <td>2025-06-06 06:04:08</td>\n",
       "      <td>192.168.54.167</td>\n",
       "      <td>220.159.139.17</td>\n",
       "      <td>443</td>\n",
       "      <td>SSH</td>\n",
       "      <td>ICMP</td>\n",
       "      <td>2954</td>\n",
       "      <td>Mozilla/5.0</td>\n",
       "      <td>Success</td>\n",
       "      <td>0</td>\n",
       "      <td>Normal</td>\n",
       "    </tr>\n",
       "    <tr>\n",
       "      <th>1</th>\n",
       "      <td>2025-06-04 15:20:59</td>\n",
       "      <td>192.168.193.254</td>\n",
       "      <td>201.83.205.167</td>\n",
       "      <td>80</td>\n",
       "      <td>FTP</td>\n",
       "      <td>UDP</td>\n",
       "      <td>206</td>\n",
       "      <td>Wget/1.20.3</td>\n",
       "      <td>Success</td>\n",
       "      <td>0</td>\n",
       "      <td>Normal</td>\n",
       "    </tr>\n",
       "    <tr>\n",
       "      <th>2</th>\n",
       "      <td>2025-06-03 07:23:49</td>\n",
       "      <td>192.168.91.17</td>\n",
       "      <td>211.0.177.164</td>\n",
       "      <td>21</td>\n",
       "      <td>SSH</td>\n",
       "      <td>ICMP</td>\n",
       "      <td>977</td>\n",
       "      <td>nmap/7.80</td>\n",
       "      <td>Success</td>\n",
       "      <td>0</td>\n",
       "      <td>Normal</td>\n",
       "    </tr>\n",
       "    <tr>\n",
       "      <th>3</th>\n",
       "      <td>2025-06-03 11:35:42</td>\n",
       "      <td>192.168.108.75</td>\n",
       "      <td>187.49.21.67</td>\n",
       "      <td>22</td>\n",
       "      <td>HTTP</td>\n",
       "      <td>TCP</td>\n",
       "      <td>521</td>\n",
       "      <td>curl/7.68.0</td>\n",
       "      <td>Success</td>\n",
       "      <td>0</td>\n",
       "      <td>Normal</td>\n",
       "    </tr>\n",
       "    <tr>\n",
       "      <th>4</th>\n",
       "      <td>2025-06-05 06:09:02</td>\n",
       "      <td>192.168.245.254</td>\n",
       "      <td>189.62.16.12</td>\n",
       "      <td>53</td>\n",
       "      <td>Telnet</td>\n",
       "      <td>TCP</td>\n",
       "      <td>251</td>\n",
       "      <td>Wget/1.20.3</td>\n",
       "      <td>Success</td>\n",
       "      <td>0</td>\n",
       "      <td>Normal</td>\n",
       "    </tr>\n",
       "  </tbody>\n",
       "</table>\n",
       "</div>"
      ],
      "text/plain": [
       "             Timestamp        Source_IP  Destination_IP  Port Request_Type  \\\n",
       "0  2025-06-06 06:04:08   192.168.54.167  220.159.139.17   443          SSH   \n",
       "1  2025-06-04 15:20:59  192.168.193.254  201.83.205.167    80          FTP   \n",
       "2  2025-06-03 07:23:49    192.168.91.17   211.0.177.164    21          SSH   \n",
       "3  2025-06-03 11:35:42   192.168.108.75    187.49.21.67    22         HTTP   \n",
       "4  2025-06-05 06:09:02  192.168.245.254    189.62.16.12    53       Telnet   \n",
       "\n",
       "  Protocol  Payload_Size   User_Agent   Status  Intrusion Scan_Type  \n",
       "0     ICMP          2954  Mozilla/5.0  Success          0    Normal  \n",
       "1      UDP           206  Wget/1.20.3  Success          0    Normal  \n",
       "2     ICMP           977    nmap/7.80  Success          0    Normal  \n",
       "3      TCP           521  curl/7.68.0  Success          0    Normal  \n",
       "4      TCP           251  Wget/1.20.3  Success          0    Normal  "
      ]
     },
     "execution_count": 12,
     "metadata": {},
     "output_type": "execute_result"
    }
   ],
   "source": [
    "data.head()"
   ]
  }
 ],
 "metadata": {
  "kernelspec": {
   "display_name": "data",
   "language": "python",
   "name": "python3"
  },
  "language_info": {
   "codemirror_mode": {
    "name": "ipython",
    "version": 3
   },
   "file_extension": ".py",
   "mimetype": "text/x-python",
   "name": "python",
   "nbconvert_exporter": "python",
   "pygments_lexer": "ipython3",
   "version": "3.13.5"
  }
 },
 "nbformat": 4,
 "nbformat_minor": 5
}
